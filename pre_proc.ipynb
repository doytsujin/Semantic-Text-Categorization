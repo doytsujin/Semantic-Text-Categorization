{
 "cells": [
  {
   "cell_type": "markdown",
   "metadata": {},
   "source": [
    "# Semantic Categorization Data Manipulation"
   ]
  },
  {
   "cell_type": "code",
   "execution_count": 822,
   "metadata": {},
   "outputs": [],
   "source": [
    "import sys\n",
    "import os\n",
    "import string\n",
    "import json\n",
    "import math\n",
    "import random\n",
    "from random import random\n",
    "from random import randint\n",
    "import argparse\n",
    "import re\n",
    "import matplotlib.pyplot as plt\n",
    "import timeit\n",
    "import spacy\n",
    "import numpy as np\n",
    "import pickle\n",
    "from pylab import *\n",
    "from copy import deepcopy\n",
    "from sklearn.feature_extraction.text import ENGLISH_STOP_WORDS\n",
    "from sklearn.model_selection import train_test_split\n",
    "from sklearn import tree\n",
    "import torch\n",
    "import torch.autograd as autograd\n",
    "import torch.nn as nn\n",
    "import torch.nn.functional as F\n",
    "import torch.optim as optim\n",
    "from torch.autograd import Variable\n",
    "from hashlib import sha256\n",
    "import urllib.request\n",
    "from torch.utils.data import Dataset, DataLoader, TensorDataset\n",
    "dtype_float = torch.FloatTensor\n",
    "dtype_long = torch.LongTensor"
   ]
  },
  {
   "cell_type": "code",
   "execution_count": 107,
   "metadata": {},
   "outputs": [],
   "source": [
    "nlp = spacy.load('en', disable = ['parser','ner'])"
   ]
  },
  {
   "cell_type": "code",
   "execution_count": 109,
   "metadata": {},
   "outputs": [
    {
     "data": {
      "text/plain": [
       "'encryption'"
      ]
     },
     "execution_count": 109,
     "metadata": {},
     "output_type": "execute_result"
    }
   ],
   "source": [
    "# import nltk\n",
    "# nltk.download('wordnet')\n",
    "from nltk.stem import WordNetLemmatizer\n",
    "wordnet_lemmatizer = WordNetLemmatizer()\n",
    "wordnet_lemmatizer.lemmatize('encryption')"
   ]
  },
  {
   "cell_type": "code",
   "execution_count": 116,
   "metadata": {},
   "outputs": [
    {
     "data": {
      "text/plain": [
       "'process'"
      ]
     },
     "execution_count": 116,
     "metadata": {},
     "output_type": "execute_result"
    }
   ],
   "source": [
    "from nltk.stem.lancaster import LancasterStemmer\n",
    "lancaster_stemmer = LancasterStemmer()\n",
    "lancaster_stemmer.stem('processing')"
   ]
  },
  {
   "cell_type": "code",
   "execution_count": 147,
   "metadata": {},
   "outputs": [
    {
     "data": {
      "text/plain": [
       "'callback'"
      ]
     },
     "execution_count": 147,
     "metadata": {},
     "output_type": "execute_result"
    }
   ],
   "source": [
    "from nltk.stem.porter import PorterStemmer\n",
    "porter_stemmer = PorterStemmer()\n",
    "porter_stemmer.stem('callback')"
   ]
  },
  {
   "cell_type": "markdown",
   "metadata": {},
   "source": [
    "- Process data into .txt. \n",
    "- Test for reading and writing files."
   ]
  },
  {
   "cell_type": "code",
   "execution_count": 6,
   "metadata": {},
   "outputs": [],
   "source": [
    "def extractLine(file_path):\n",
    "    f = open(file_path, 'r')\n",
    "    data = f.readlines()\n",
    "    f.close()\n",
    "    MessageText = []\n",
    "    i = 0\n",
    "    while(i < len(data)):\n",
    "        if \"MessageText\" in data[i]:\n",
    "            MessageText.append(data[i+2].split(\"// \")[1].strip())\n",
    "            i += 2\n",
    "        else:\n",
    "            i += 1\n",
    "    return MessageText"
   ]
  },
  {
   "cell_type": "code",
   "execution_count": 7,
   "metadata": {},
   "outputs": [],
   "source": [
    "def writeFile(data, outputFileName):\n",
    "    f = open(outputFileName, 'w')\n",
    "    for line in data:\n",
    "        f.write(line + '\\n')\n",
    "    f.close()\n",
    "    \n",
    "def readFile(FileName):\n",
    "    f = open(FileName, 'r')\n",
    "    data = f.read().split('\\n')\n",
    "    f.close()\n",
    "    return data"
   ]
  },
  {
   "cell_type": "code",
   "execution_count": 8,
   "metadata": {},
   "outputs": [
    {
     "name": "stdout",
     "output_type": "stream",
     "text": [
      "The operation completed successfully.\n"
     ]
    }
   ],
   "source": [
    "file_path = './WinError.h'\n",
    "data = extractLine(file_path)\n",
    "print(data[0])"
   ]
  },
  {
   "cell_type": "code",
   "execution_count": 9,
   "metadata": {},
   "outputs": [
    {
     "name": "stdout",
     "output_type": "stream",
     "text": [
      "The operation completed successfully.\n"
     ]
    }
   ],
   "source": [
    "writeFile(data, 'MessageText.txt')\n",
    "readData = readFile('MessageText.txt')\n",
    "print(readData[0])"
   ]
  },
  {
   "cell_type": "markdown",
   "metadata": {},
   "source": [
    "## Preprocessing Original Data"
   ]
  },
  {
   "cell_type": "code",
   "execution_count": 10,
   "metadata": {},
   "outputs": [],
   "source": [
    "def proc(comment, steps=range(1,9)):\n",
    "    ''' This function pre-processes a single comment\n",
    "\n",
    "    Parameters:                                                                      \n",
    "        comment : string, the body of a comment\n",
    "        steps   : list of ints, each entry in this list \n",
    "        corresponds to a preprocessing step  \n",
    "\n",
    "    Returns:\n",
    "        modComm : string, the modified comment \n",
    "    '''\n",
    "\n",
    "    #modComm = ''\n",
    "    if 1 in steps:\n",
    "        # separate the punctuations from the words except for e.g., i.e., and convert to lower case\n",
    "        word_list = comment.split(' ')\n",
    "        comment = ''\n",
    "        for word in word_list:\n",
    "            word = word.lower()\n",
    "            if 'e.g.' in word:\n",
    "                word = word.replace('e.g.', ' e.g. ').strip()\n",
    "            elif '%' not in word:\n",
    "                word = re.sub(r\"[\\w']+\", lambda pat: ' ' + pat.group(0)+' ',\n",
    "                                  word).strip()\n",
    "            else:\n",
    "                pass\n",
    "            comment += word + ' '\n",
    "    if 2 in steps:\n",
    "        # Each token is tagged with its part-of-speech using spaCy\n",
    "        a = re.compile(\"[\\S]+\").findall(comment)\n",
    "        doc = spacy.tokens.Doc(nlp.vocab,words = a)\n",
    "        doc = nlp.tagger(doc)\n",
    "        comment = ''\n",
    "        for token in doc:\n",
    "            comment += str(token.text) + '/' + token.tag_ + ' '\n",
    "            \n",
    "    if 3 in steps:\n",
    "        # Remove StopWords(with tags)\n",
    "        pattern = re.compile(r'\\b(' + r'|'.join(StopWords) + r')\\b')\n",
    "        comment = pattern.sub('', comment)\n",
    "        pattern = re.compile(r\"(\\B)/[\\w]+(?=\\s)\")\n",
    "        comment = pattern.sub('', comment)\n",
    "        # Clear out the spaces\n",
    "        a = re.compile(\"[\\S]+\").findall(comment)\n",
    "        comment = ''\n",
    "        for e in a:\n",
    "            comment += e + ' '\n",
    "        comment = comment.strip()\n",
    "        \n",
    "    if 4 in steps:\n",
    "        # get rid of the punctuations\n",
    "        word_list = comment.split(' ')\n",
    "        comment = ''\n",
    "        for word in word_list:\n",
    "            if word in string.punctuation:\n",
    "                word = ''\n",
    "            else:\n",
    "                pass\n",
    "            comment += word + ' '\n",
    "\n",
    "    if 5 in steps:\n",
    "        # remove StopWords(without tags)\n",
    "        pattern = re.compile(r'\\b(' + r'|'.join(StopWords) + r')\\b')\n",
    "        comment = pattern.sub('', comment)\n",
    "        a = re.compile(\"[\\S]+\").findall(comment)\n",
    "        comment = ''\n",
    "        for e in a:\n",
    "            comment += e + ' '\n",
    "        comment = comment.strip()\n",
    "        \n",
    "    if 6 in steps:\n",
    "        # lemmatization with LancasterStemmer\n",
    "        word_list = comment.split(' ')\n",
    "        comment = ''\n",
    "        for word in word_list:\n",
    "            word = lancaster_stemmer.stem(word)\n",
    "            comment += word + ' '\n",
    "    \n",
    "    if 7 in steps:\n",
    "        # lemmatization with WordNetLemmatizer\n",
    "        word_list = comment.split(' ')\n",
    "        comment = ''\n",
    "        for word in word_list:\n",
    "            word = wordnet_lemmatizer.lemmatize(word)\n",
    "            comment += word + ' '\n",
    "\n",
    "    if 8 in steps:\n",
    "        # lemmatization with PorterStemmer\n",
    "        word_list = comment.split(' ')\n",
    "        comment = ''\n",
    "        for word in word_list:\n",
    "            word = porter_stemmer.stem(word)\n",
    "            comment += word + ' '\n",
    "            \n",
    "    modComm = comment\n",
    "    return modComm\n"
   ]
  },
  {
   "cell_type": "code",
   "execution_count": 159,
   "metadata": {},
   "outputs": [],
   "source": [
    "def preproc():\n",
    "    allOutput = []\n",
    "    file_path = './WinError.h'\n",
    "    data = extractLine(file_path)\n",
    "    for line in data:\n",
    "        pre_text = proc(line, [1,4,5])\n",
    "        allOutput.append(pre_text)\n",
    "        writeFile(allOutput, 'noPunctuations.txt')"
   ]
  },
  {
   "cell_type": "code",
   "execution_count": 11,
   "metadata": {},
   "outputs": [],
   "source": [
    "StopWords_path = 'StopWords.txt'\n",
    "StopWords = open(StopWords_path, 'r')\n",
    "StopWords = StopWords.read().split('\\n')"
   ]
  },
  {
   "cell_type": "code",
   "execution_count": 163,
   "metadata": {},
   "outputs": [],
   "source": [
    "preproc()"
   ]
  },
  {
   "cell_type": "markdown",
   "metadata": {},
   "source": [
    "\n",
    "## Building Vocabulary and Finding Keywords"
   ]
  },
  {
   "cell_type": "code",
   "execution_count": 1078,
   "metadata": {},
   "outputs": [],
   "source": [
    "def buildVocab(data):\n",
    "    vocab = {}\n",
    "    for line in data:\n",
    "        for word in line:\n",
    "            if word not in vocab.keys():\n",
    "                vocab[word] = 1\n",
    "            else:\n",
    "                vocab[word] += 1\n",
    "    return vocab\n",
    "\n",
    "def itemget(item):\n",
    "    return item[1]\n",
    "\n",
    "def mostFreqWord(vocab):\n",
    "    vocabList =[(key, value) for key,value in vocab.items()]\n",
    "    rank = sorted(vocabList, key=itemget,reverse=True)\n",
    "    print([i[0] for i in rank[:50]])\n",
    "    \n",
    "def vectorizeData(data):\n",
    "    Vec = [x.split(' ') for x in data]\n",
    "    return Vec"
   ]
  },
  {
   "cell_type": "markdown",
   "metadata": {},
   "source": [
    "Get most frequent words without/with stemmers in order to etraxt keywords for Categorization"
   ]
  },
  {
   "cell_type": "code",
   "execution_count": 96,
   "metadata": {},
   "outputs": [
    {
     "name": "stdout",
     "output_type": "stream",
     "text": [
      "['not', 'invalid', 'cannot', 'error', 'system', 'file', 'failed', 'object', 'service', 'data', 'no', 'drive', 'server', 'found', 'transaction', 'log', 'request', 'key', 'type', 'domain', 'valid', 'cluster', 'network', 'bitlocker', 'directory', 'policy', 'device', 'supported', 'group', 'disk', 'mode', 'information', 'exist', 'security', 'call', 'certificate', 'user', 'attribute', 'process', 'version', 'occurred', 'unable', 'driver', 'handle', 'can', 'virtual', 'encryption', 'computer', 'exists', 'windows']\n"
     ]
    }
   ],
   "source": [
    "data = readFile('noPunctuations.txt')\n",
    "data = vectorizeData(data)\n",
    "vocab = buildVocab(data)\n",
    "mostFreqWord(vocab)\n",
    "# print(vocab[''])"
   ]
  },
  {
   "cell_type": "code",
   "execution_count": 97,
   "metadata": {},
   "outputs": [
    {
     "name": "stdout",
     "output_type": "stream",
     "text": [
      "['not', 'invalid', 'cannot', 'error', 'system', 'file', 'failed', 'object', 'service', 'drive', 'data', 'no', 'server', 'found', 'transaction', 'log', 'request', 'type', 'key', 'disk', 'domain', 'cluster', 'valid', 'group', 'attribute', 'policy', 'network', 'bitlocker', 'device', 'directory', 'mode', 'supported', 'information', 'user', 'certificate', 'call', 'exist', 'security', 'version', 'process', 'driver', 'handle', 'occurred', 'unable', 'can', 'virtual', 'encryption', 'computer', 'exists', 'support']\n"
     ]
    }
   ],
   "source": [
    "data = readFile('noPunctuationsWordNetLemmatizer.txt')\n",
    "data = vectorizeData(data)\n",
    "vocab = buildVocab(data)\n",
    "mostFreqWord(vocab)"
   ]
  },
  {
   "cell_type": "code",
   "execution_count": 98,
   "metadata": {},
   "outputs": [
    {
     "name": "stdout",
     "output_type": "stream",
     "text": [
      "['not', 'invalid', 'serv', 'cannot', 'er', 'fail', 'driv', 'system', 'fil', 'object', 'dat', 'no', 'ex', 'support', 'transact', 'cal', 'mod', 'log', 'found', 'process', 'request', 'valid', 'op', 'typ', 'key', 'direct', 'act', 'disk', 'domain', 'instal', 'reg', 'clust', 'group', 'cert', 'attribut', 'policy', 'network', 'us', 'bitlock', 'dev', 'config', 'encrypt', 'virt', 'inform', 'sec', 'complet', 'handl', 'un', 'man', 'vert']\n"
     ]
    }
   ],
   "source": [
    "data = readFile('noPunctuationsLancasterStemmer.txt')\n",
    "data = vectorizeData(data)\n",
    "vocab = buildVocab(data)\n",
    "mostFreqWord(vocab)"
   ]
  },
  {
   "cell_type": "code",
   "execution_count": 99,
   "metadata": {},
   "outputs": [
    {
     "name": "stdout",
     "output_type": "stream",
     "text": [
      "['not', 'invalid', 'cannot', 'error', 'system', 'file', 'fail', 'object', 'servic', 'drive', 'data', 'no', 'exist', 'support', 'server', 'transact', 'found', 'log', 'request', 'valid', 'call', 'process', 'type', 'key', 'disk', 'domain', 'instal', 'cluster', 'group', 'attribut', 'polici', 'certif', 'network', 'bitlock', 'devic', 'directori', 'configur', 'encrypt', 'virtual', 'mode', 'inform', 'secur', 'complet', 'occur', 'user', 'activ', 'version', 'manag', 'handl', 'provid']\n"
     ]
    }
   ],
   "source": [
    "data = readFile('noPunctuationsPorterStemmer.txt')\n",
    "data = vectorizeData(data)\n",
    "vocab = buildVocab(data)\n",
    "mostFreqWord(vocab)"
   ]
  },
  {
   "cell_type": "markdown",
   "metadata": {},
   "source": [
    "### Categories:\n",
    "    - success/complet(complete):\n",
    "    - failure: (38 types)\n",
    "        system, file, object, servic(service), drive, data, support, server, transact, found(not found), log, call, process, type, key, domain, user, instal(installation), cluster, group, attribut, polici, certif, network, bitlock, devic, directori, configur, encrypt, context, virtual(virtual machine & vertulization), windows('window' is removed, windows system error is kept), mode, inform(information), secur(security), version, connect, provid(provider) -> these are based on PorterStemmer lemmatization\n",
    "        \n",
    "* 'group policy' can be a case of digram\n"
   ]
  },
  {
   "cell_type": "markdown",
   "metadata": {},
   "source": [
    "### Labeling Message Text with categories"
   ]
  },
  {
   "cell_type": "code",
   "execution_count": 652,
   "metadata": {},
   "outputs": [],
   "source": [
    "labels = ['success', 'system', 'file', 'object', 'servic', 'drive', 'data', 'support', 'server', 'transact',\n",
    "          'found', 'log', 'call', 'process', 'type', 'key', 'domain', 'user', 'instal', 'cluster', 'group', \n",
    "         'attribut', 'polici', 'certif', 'network', 'bitlock', 'devic', 'directori', 'configur', 'encrypt', \n",
    "          'context','virtual', 'mode', 'inform', 'secur', 'windows','version', 'connect']\n",
    "data = readFile('noPunctuationsPorterStemmer.txt')\n",
    "def labelData(labels, data):\n",
    "    '''\n",
    "        Label data with label, returns a list of Data and a list of Label in corresponded sequence\n",
    "    '''\n",
    "    labeled = {}\n",
    "    Data = []\n",
    "    Label = []\n",
    "    for line in data:\n",
    "        # not labeled\n",
    "        for label in labels:\n",
    "            if label in line:\n",
    "                # TODO: need to mannually consider the 'complet' case here\n",
    "                if label == 'success' and 'not ' not in line and 'no ' not in line and 'fail' not in line: \n",
    "                    labeled[line] = 'success'\n",
    "                else:\n",
    "                    labeled[line] = label\n",
    "    for line in data:\n",
    "        if line not in labeled.keys():\n",
    "            labeled[line] = 'other'\n",
    "            \n",
    "    for key, val in labeled.items():\n",
    "        Data.append(key)\n",
    "        Label.append(val)\n",
    "    return Data, Label\n"
   ]
  },
  {
   "cell_type": "markdown",
   "metadata": {},
   "source": [
    "## Word Embedding"
   ]
  },
  {
   "cell_type": "code",
   "execution_count": 1091,
   "metadata": {},
   "outputs": [],
   "source": [
    "def get_dataset(new_category, n):\n",
    "    '''\n",
    "    input: new_category is a dict that has keys of category number, values are the embedded vectors of the words \n",
    "    with the length of 44*50\n",
    "    '''\n",
    "    X_train = []\n",
    "    X_test = []\n",
    "    y_train = []\n",
    "    y_test = []\n",
    "    seed(10)\n",
    "    for i in range(len(new_category.keys())):\n",
    "        x = new_category[i]\n",
    "        y = [i] * n\n",
    "        seed(190)\n",
    "        X_train_i, X_test_i, y_train_i, y_test_i = train_test_split(x, y, test_size=0.1, random_state=42)\n",
    "        X_train += X_train_i\n",
    "        X_test += X_test_i\n",
    "        y_train += y_train_i\n",
    "        y_test += y_test_i\n",
    "\n",
    "    X_train = np.asarray(X_train)\n",
    "    X_test = np.asarray(X_test)\n",
    "    y_train = np.asarray(y_train)\n",
    "    y_test = np.asarray(y_test)\n",
    "    \n",
    "    return X_train, X_test, y_train, y_test"
   ]
  },
  {
   "cell_type": "code",
   "execution_count": 650,
   "metadata": {},
   "outputs": [],
   "source": [
    "def getVec(Data):\n",
    "    dataVec = []\n",
    "    for key, val in labeledData.items():\n",
    "        dataVec.append(key.split())\n",
    "    return dataVec"
   ]
  },
  {
   "cell_type": "code",
   "execution_count": 382,
   "metadata": {},
   "outputs": [],
   "source": [
    "def save_data(data, name):\n",
    "    with open(name + '.pickle', 'wb') as handle:\n",
    "        pickle.dump(data, handle, protocol=pickle.HIGHEST_PROTOCOL)\n",
    "    \n",
    "def load_data(name):\n",
    "    with open(name + '.pickle', 'rb') as handle:\n",
    "        saved_data = pickle.load(handle)\n",
    "    return saved_data"
   ]
  },
  {
   "cell_type": "code",
   "execution_count": 914,
   "metadata": {},
   "outputs": [],
   "source": [
    "def embeddData(dataVec, labels, word2glove, featureLength, start = 0., end = 1.):\n",
    "    embeddedLength = 50\n",
    "#     featureLength = max(len(dataVec[i]) for i in range(len(dataVec)))\n",
    "    embedded = np.empty((0, 44, 50))\n",
    "    pad = np.zeros(embeddedLength)\n",
    "    data = list(taggeddata.keys())\n",
    "    label = list(taggeddata.values())\n",
    "    for line in data[int(start*len(data)):int(end*len(data))]:\n",
    "        wordList = []\n",
    "        for word in line:\n",
    "            if word in word2glove.keys():\n",
    "                wordArray = word2glove[word]\n",
    "                wordList.append(wordArray)\n",
    "                if len(wordList) == featureLength:\n",
    "                    break\n",
    "        numPadding = featureLength - len(wordList)\n",
    "        for i in range(numPadding):\n",
    "            wordList.insert(0,pad)\n",
    "        embedded = np.concatenate((embedded, np.array(wordList).reshape((1, featureLength, embeddedLength))), axis = 0)\n",
    "        \n",
    "        if (embedded.shape[0]%1000 == 0):\n",
    "            print('embedded shape is', embedded.shape)\n",
    "        \n",
    "    embedded = np.array(embedded)    \n",
    "    save_data(embedded, 'embedded')\n",
    "                              \n",
    "    return embedded"
   ]
  },
  {
   "cell_type": "code",
   "execution_count": 653,
   "metadata": {},
   "outputs": [],
   "source": [
    "with open('./glove/glove.6B.50d.txt','rb') as f:\n",
    "    lines = f.readlines()\n",
    "\n",
    "    glove_weights = np.zeros((len(lines), 50))\n",
    "    words = []\n",
    "    for i, line in enumerate(lines):\n",
    "        word_weights = line.split()\n",
    "        words.append(word_weights[0])\n",
    "        weight = word_weights[1:]\n",
    "        glove_weights[i] = np.array([float(w) for w in weight])\n",
    "    word_vocab = [w.decode(\"utf-8\") for w in words]\n",
    "\n",
    "    word2glove = dict(zip(word_vocab, glove_weights))"
   ]
  },
  {
   "cell_type": "markdown",
   "metadata": {},
   "source": [
    "## RNN Model"
   ]
  },
  {
   "cell_type": "markdown",
   "metadata": {},
   "source": [
    "split into training and testing data"
   ]
  },
  {
   "cell_type": "code",
   "execution_count": 656,
   "metadata": {},
   "outputs": [],
   "source": [
    "class messageDataset(Dataset):\n",
    "    def __init__(self, data, label):\n",
    "        self.trainingData = data\n",
    "        self.trainingLabel = label\n",
    "        \n",
    "    def __len__(self):\n",
    "        return self.trainingData.shape[0]\n",
    "\n",
    "    def __getitem__(self, idx):\n",
    "        return self.trainingData[idx,:, :], self.trainingLabel[idx]\n",
    "    \n",
    "\n",
    "class LSTMClassifier(nn.Module):\n",
    "    \n",
    "    def __init__(self, embedding_dim, hidden_dim, tagset_size, mini_size):\n",
    "        super(LSTMClassifier, self).__init__()\n",
    "        self.hidden_dim = hidden_dim\n",
    "\n",
    "        # The LSTM takes word embeddings as inputs, and outputs hidden states\n",
    "        # with dimensionality hidden_dim.\n",
    "        self.lstm = nn.LSTM(embedding_dim, hidden_dim)\n",
    "        self.minibatch_size = mini_size\n",
    "        \n",
    "        # The linear layer that maps from hidden state space to tag space\n",
    "        self.hidden2tag = nn.Linear(hidden_dim, tagset_size)\n",
    "        self.hidden = self.init_hidden()\n",
    "        self.sigm = nn.Softmax()\n",
    "\n",
    "    def init_hidden(self):\n",
    "        # Before we've done anything, we dont have any hidden state.\n",
    "        # Refer to the Pytorch documentation to see exactly\n",
    "        # why they have this dimensionality.\n",
    "        # The axes semantics are (num_layers, minibatch_size, hidden_dim)\n",
    "        return (autograd.Variable(torch.zeros(1, self.minibatch_size, self.hidden_dim)),\n",
    "                autograd.Variable(torch.zeros(1, self.minibatch_size, self.hidden_dim)))\n",
    "\n",
    "    def forward(self, sentence):\n",
    "        lstm_out, self.hidden = self.lstm(sentence, self.hidden)\n",
    "        tag_scores = self.hidden2tag(lstm_out[-1])\n",
    "        tag_probs = self.sigm(tag_scores)\n",
    "        return tag_probs\n",
    "    "
   ]
  },
  {
   "cell_type": "code",
   "execution_count": 655,
   "metadata": {},
   "outputs": [],
   "source": [
    "def get_label_num(Labels, label2Idx):\n",
    "    labelNum = []\n",
    "    for l in Labels:\n",
    "        labelNum.append(label2Idx[l])\n",
    "    return labelNum\n",
    "\n",
    "def convert_label_to_idx(labels):\n",
    "    i = 0\n",
    "    label2Idx = {}\n",
    "    for key in labels:\n",
    "        label2Idx[key] = i\n",
    "        i += 1\n",
    "    return label2Idx"
   ]
  },
  {
   "cell_type": "code",
   "execution_count": 1008,
   "metadata": {},
   "outputs": [],
   "source": [
    "def training(X_train, X_test, y_train, y_test, modelName = 'newmodel.pt', embedding_dim = 50, hidden_dim = 100, \n",
    "             tagset_size = 38, time_steps  = 36, batch_size = 64, n_epoch = 200):\n",
    "\n",
    "    model = LSTMClassifier(embedding_dim, hidden_dim, tagset_size, batch_size)\n",
    "    trainedmodel, result = Model(model, X_train, y_train, X_test, y_test, embedding_dim = embedding_dim, \n",
    "                                 hidden_dim = hidden_dim, tagset_size = tagset_size, time_steps = time_steps, \n",
    "                                 batch_size = batch_size, n_epoch = n_epoch, modelName = modelName)\n",
    "    torch.save(trainedmodel, modelName)\n",
    "    return result\n",
    "    "
   ]
  },
  {
   "cell_type": "code",
   "execution_count": 1109,
   "metadata": {},
   "outputs": [],
   "source": [
    "def Model(model, trainingData, trainingLabel, vtrainingData, vtrainingLabel, embedding_dim = 50, hidden_dim = 100,\n",
    "          tagset_size = 38, time_steps = 36, batch_size = 64, n_epoch = 200, modelName = \"trainedmodel.pt\"):\n",
    "    \n",
    "    dataset = messageDataset(trainingData, trainingLabel)\n",
    "    dataloader = DataLoader(dataset, batch_size = batch_size, shuffle=True)\n",
    "    optimizer = optim.Adam(model.parameters(), lr=0.005)\n",
    "    loss = nn.NLLLoss()\n",
    "    result_list = []\n",
    "    \n",
    "    for epoch in range(n_epoch):\n",
    "        for x,y in dataloader:\n",
    "            trainx = np.transpose(x, (1, 0, 2))\n",
    "            trainx = Variable(trainx, requires_grad=False).type(dtype_float)\n",
    "            trainy = Variable(y, requires_grad=False).type(dtype_long)\n",
    "            model.zero_grad()\n",
    "            model.minibatch_size = len(trainy)\n",
    "            model.hidden = model.init_hidden()\n",
    "            output = model(trainx)\n",
    "            err = loss(output, trainy)\n",
    "            err.backward()\n",
    "            optimizer.step()\n",
    "            \n",
    "        training = accuracy(model, trainingData, trainingLabel)\n",
    "        testing = accuracy(model, vtrainingData, vtrainingLabel)\n",
    "        result_list.append([epoch, training, testing])\n",
    "        print('epoch:', epoch, 'training:', training, 'testing:', testing, end = \"\\r\")\n",
    "    return model, result_list\n"
   ]
  },
  {
   "cell_type": "code",
   "execution_count": 1103,
   "metadata": {},
   "outputs": [],
   "source": [
    "def accuracy(model, trainingData, trainingLabel):\n",
    "    trainx = np.transpose(trainingData, (1, 0, 2))\n",
    "    trainx = Variable(torch.from_numpy(trainx), requires_grad=False).type(dtype_float)\n",
    "    model.minibatch_size = len(trainingLabel)\n",
    "    model.hidden = model.init_hidden()\n",
    "    output = model(trainx)\n",
    "    output_vec = output_reg(output)\n",
    "    correct = 0\n",
    "    for i in range(trainingLabel.shape[0]):\n",
    "        if trainingLabel[i]==output_vec[i]:\n",
    "            correct += 1\n",
    "    print('Number of correct label:', correct)\n",
    "    print('Total number of data:', trainingLabel.shape[0])\n",
    "    return float(correct)/trainingLabel.shape[0]"
   ]
  },
  {
   "cell_type": "markdown",
   "metadata": {},
   "source": [
    "### Distribution of Categories:"
   ]
  },
  {
   "cell_type": "code",
   "execution_count": 1097,
   "metadata": {},
   "outputs": [],
   "source": [
    "def make_n(ls, n):\n",
    "    seed(50)\n",
    "    while(len(ls) < n):\n",
    "        b = len(ls)-1\n",
    "        new_i = randint(0,b)\n",
    "        ls.append(ls[new_i])\n",
    "    return ls\n",
    "\n",
    "def pick_n(ls, n):\n",
    "    seed(40)\n",
    "    new_ls = []\n",
    "    while(len(new_ls) < n):\n",
    "        b = len(ls)-1\n",
    "        new_i = randint(0,b)\n",
    "        new_ls.append(ls[new_i])\n",
    "    return new_ls\n",
    "\n",
    "def prepare_data(category, n):\n",
    "    seed(2)\n",
    "    new_category = {}\n",
    "    for i in range(len(category.keys())):\n",
    "        if len(category[i]) < n:\n",
    "            standard_list = make_n(category[i], n)\n",
    "            new_category[i] = standard_list\n",
    "        else:\n",
    "            standard_list = pick_n(category[i], n)\n",
    "            new_category[i] = standard_list\n",
    "    \n",
    "    save_data(new_category, 'category_'+str(n)+'_dict')\n",
    "    return new_category\n",
    "    \n",
    "#  Find the category that has an amount under n sentences\n",
    "def cat_result(category, n):\n",
    "    x = range(len(category))\n",
    "    y = []\n",
    "    under = []\n",
    "    for i in range(len(category)):\n",
    "        if len(category[i]) < n:\n",
    "            under.append(i)\n",
    "        y.append(len(category[i]))\n",
    "    print('label index for amount under n =', under)\n",
    "    print('amount for each label is =', y)\n",
    "    \n",
    "    return x, y, under\n",
    "\n",
    "def categorization(Data, Labels):\n",
    "    category = {}\n",
    "    for i in range(len(Labels)):\n",
    "        if Labels[i] not in category.keys():\n",
    "            category[Labels[i]] = [Data[i]]\n",
    "        else:\n",
    "            category[Labels[i]].append(Data[i])\n",
    "    return category"
   ]
  },
  {
   "cell_type": "markdown",
   "metadata": {},
   "source": [
    "## Entire Process"
   ]
  },
  {
   "cell_type": "code",
   "execution_count": 1041,
   "metadata": {},
   "outputs": [
    {
     "name": "stdout",
     "output_type": "stream",
     "text": [
      "label index for amount under n = [0, 1, 4, 5, 7, 8, 9, 13, 14, 15, 16, 17, 18, 19, 20, 21, 22, 23, 24, 25, 26, 27, 28, 29, 30, 33, 34, 35, 36]\n",
      "amount for each label is = [7, 71, 118, 121, 62, 58, 127, 91, 77, 93, 101, 124, 121, 99, 88, 62, 38, 69, 50, 73, 55, 79, 51, 79, 81, 22, 87, 89, 81, 82, 69, 101, 104, 99, 54, 78, 86, 1583]\n"
     ]
    },
    {
     "data": {
      "image/png": "[encoded data removed]",
      "text/plain": [
       "<matplotlib.figure.Figure at 0x1a1c087438>"
      ]
     },
     "metadata": {},
     "output_type": "display_data"
    }
   ],
   "source": [
    "labels = ['success', 'system', 'file', 'object', 'servic', 'drive', 'data', 'support', 'server', 'transact',\n",
    "          'found', 'log', 'call', 'process', 'type', 'key', 'domain', 'user', 'instal', 'cluster', 'group', \n",
    "         'attribut', 'polici', 'certif', 'network', 'bitlock', 'devic', 'directori', 'configur', 'encrypt', \n",
    "          'virtual', 'mode', 'inform', 'secur', 'window','version', 'connect']\n",
    "# labels.append('other')\n",
    "# label2Idx = convert_label_to_idx(labels)\n",
    "label2Idx = {'success': 0, 'system': 1, 'file': 2, 'object': 3, 'servic': 4, 'drive': 5, 'data': 6, \n",
    "             'support': 7, 'server': 8, 'transact': 9, 'found': 10, 'log': 11, 'call': 12, 'process': 13, \n",
    "             'type': 14, 'key': 15, 'domain': 16, 'user': 17, 'instal': 18, 'cluster': 19, 'group': 20, \n",
    "             'attribut': 21, 'polici': 22, 'certif': 23, 'network': 24, 'bitlock': 25, 'devic': 26, \n",
    "             'directori': 27, 'configur': 28, 'encrypt': 29, 'virtual': 30, 'mode': 31, 'inform': 32, \n",
    "             'secur': 33, 'window': 34, 'version': 35, 'connect': 36, 'other': 37}\n",
    "\n",
    "# data = readFile('noPunctuationsPorterStemmer.txt')\n",
    "# # Label data with label, returns a list of Data and a list of Label in corresponded sequence\n",
    "# Data, Labels = labelData(labels, data)\n",
    "# dataVec = getVec(Data)\n",
    "# labelNum = get_label_num(Labels, label2Idx)\n",
    "# featureLength = 44\n",
    "# embedded = embeddData(dataVec, labels, word2glove, featureLength, start = 0., end = 1.)\n",
    "\n",
    "n = 100\n",
    "category = categorization(embedded, labelNum)\n",
    "x, y, under = cat_result(category, n)\n",
    "\n",
    "# Frequency plot\n",
    "width = 1/1.5\n",
    "plt.figure(figsize=(18, 5))\n",
    "plt.bar(x, y, width, color=\"blue\", align='center', alpha=0.5)\n",
    "# plt.xticks(x, Labels)\n",
    "plt.xticks(x)\n",
    "plt.ylabel('Num of samples')\n",
    "plt.title('Numer of samples of different labels')\n",
    "fig = plt.show()"
   ]
  },
  {
   "cell_type": "markdown",
   "metadata": {},
   "source": [
    "### Choosing n=100 as the averge number of training case"
   ]
  },
  {
   "cell_type": "code",
   "execution_count": 1046,
   "metadata": {},
   "outputs": [
    {
     "name": "stdout",
     "output_type": "stream",
     "text": [
      "label index for amount under n = []\n",
      "amount for each label is = [100, 100, 100, 100, 100, 100, 100, 100, 100, 100, 100, 100, 100, 100, 100, 100, 100, 100, 100, 100, 100, 100, 100, 100, 100, 100, 100, 100, 100, 100, 100, 100, 100, 100, 100, 100, 100, 100]\n"
     ]
    },
    {
     "data": {
      "image/png": "[encoded data removed]",
      "text/plain": [
       "<matplotlib.figure.Figure at 0x1a1602e5f8>"
      ]
     },
     "metadata": {},
     "output_type": "display_data"
    }
   ],
   "source": [
    "n = 100\n",
    "new_category = prepare_data(category, n) \n",
    "x, y, under = cat_result(new_category, n)\n",
    "\n",
    "# Plot Distribution plot\n",
    "width = 1/1.5\n",
    "plt.figure(figsize=(18, 5))\n",
    "plt.bar(x, y, width, color=\"blue\", align='center', alpha=0.5)\n",
    "# plt.xticks(x, Labels)\n",
    "plt.xticks(x)\n",
    "plt.ylabel('Num of samples')\n",
    "plt.title('Numer of samples of different labels')\n",
    "plt.show()\n",
    "\n",
    "# Save Results\n",
    "# save_data(new_category, 'category_100_dict')\n"
   ]
  },
  {
   "cell_type": "code",
   "execution_count": 1085,
   "metadata": {},
   "outputs": [],
   "source": [
    "def output_reg(output):\n",
    "    output_vec = []\n",
    "#   [3420, 38]\n",
    "    for i in range(output.shape[0]):\n",
    "        m = max(output[i].data)\n",
    "        for j in range(len(output[i].data)):\n",
    "            if output[i].data[j] == m:\n",
    "                output_vec.append(j)\n",
    "    return output_vec"
   ]
  },
  {
   "cell_type": "code",
   "execution_count": 1110,
   "metadata": {},
   "outputs": [
    {
     "name": "stderr",
     "output_type": "stream",
     "text": [
      "/Users/yingxue_wang/anaconda3/lib/python3.6/site-packages/ipykernel_launcher.py:40: UserWarning: Implicit dimension choice for softmax has been deprecated. Change the call to include dim=X as an argument.\n"
     ]
    },
    {
     "name": "stdout",
     "output_type": "stream",
     "text": [
      "Number of correct label: 126\n",
      "Total number of data: 3420\n",
      "Number of correct label: 14\n",
      "Total number of data: 380\n",
      "Number of correct label: 2290526315789 testing: 0.03684210526315789\n",
      "Total number of data: 3420\n",
      "Number of correct label: 20\n",
      "Total number of data: 380\n",
      "Number of correct label: 3016432748538 testing: 0.05263157894736842\n",
      "Total number of data: 3420\n",
      "Number of correct label: 26\n",
      "Total number of data: 380\n",
      "Number of correct label: 4999590643275 testing: 0.06842105263157895\n",
      "Total number of data: 3420\n",
      "Number of correct label: 47\n",
      "Total number of data: 380\n",
      "Number of correct label: 53732748538 testing: 0.12368421052631579\n",
      "Total number of data: 3420\n",
      "Number of correct label: 49\n",
      "Total number of data: 380\n",
      "Number of correct label: 561438596491 testing: 0.12894736842105264\n",
      "Total number of data: 3420\n",
      "Number of correct label: 58\n",
      "Total number of data: 380\n",
      "Number of correct label: 7128771929826 testing: 0.15263157894736842\n",
      "Total number of data: 3420\n",
      "Number of correct label: 67\n",
      "Total number of data: 380\n",
      "Number of correct label: 8033450292398 testing: 0.1763157894736842\n",
      "Total number of data: 3420\n",
      "Number of correct label: 70\n",
      "Total number of data: 380\n",
      "Number of correct label: 859216374269 testing: 0.18421052631578946\n",
      "Total number of data: 3420\n",
      "Number of correct label: 75\n",
      "Total number of data: 380\n",
      "Number of correct label: 926906432749 testing: 0.19736842105263158\n",
      "Total number of data: 3420\n",
      "Number of correct label: 83\n",
      "Total number of data: 380\n",
      "Number of correct label: 9613391812865 testing: 0.21842105263157896\n",
      "Total number of data: 3420\n",
      "Number of correct label: 80\n",
      "Total number of data: 380\n",
      "Number of correct label: 97715204678363 testing: 0.21052631578947367\n",
      "Total number of data: 3420\n",
      "Number of correct label: 77\n",
      "Total number of data: 380\n",
      "Number of correct label: 993514619883 testing: 0.2026315789473684\n",
      "Total number of data: 3420\n",
      "Number of correct label: 84\n",
      "Total number of data: 380\n",
      "Number of correct label: 10667719298247 testing: 0.22105263157894736\n",
      "Total number of data: 3420\n",
      "Number of correct label: 87\n",
      "Total number of data: 380\n",
      "Number of correct label: 1098064327485 testing: 0.22894736842105262\n",
      "Total number of data: 3420\n",
      "Number of correct label: 88\n",
      "Total number of data: 380\n",
      "Number of correct label: 11343157894737 testing: 0.23157894736842105\n",
      "Total number of data: 3420\n",
      "Number of correct label: 91\n",
      "Total number of data: 380\n",
      "Number of correct label: 11724736842103 testing: 0.2394736842105263\n",
      "Total number of data: 3420\n",
      "Number of correct label: 92\n",
      "Total number of data: 380\n",
      "Number of correct label: 11695847953216 testing: 0.24210526315789474\n",
      "Total number of data: 3420\n",
      "Number of correct label: 89\n",
      "Total number of data: 380\n",
      "Number of correct label: 121065497076 testing: 0.23421052631578948\n",
      "Total number of data: 3420\n",
      "Number of correct label: 94\n",
      "Total number of data: 380\n",
      "Number of correct label: 1245695906433 testing: 0.24736842105263157\n",
      "Total number of data: 3420\n",
      "Number of correct label: 94\n",
      "Total number of data: 380\n",
      "Number of correct label: 12678771929827 testing: 0.24736842105263157\n",
      "Total number of data: 3420\n",
      "Number of correct label: 94\n",
      "Total number of data: 380\n",
      "Number of correct label: 12693625730995 testing: 0.24736842105263157\n",
      "Total number of data: 3420\n",
      "Number of correct label: 99\n",
      "Total number of data: 380\n",
      "Number of correct label: 12983157894736 testing: 0.26052631578947366\n",
      "Total number of data: 3420\n",
      "Number of correct label: 100\n",
      "Total number of data: 380\n",
      "Number of correct label: 13106374269005 testing: 0.2631578947368421\n",
      "Total number of data: 3420\n",
      "Number of correct label: 107\n",
      "Total number of data: 380\n",
      "Number of correct label: 1267356725146 testing: 0.28157894736842104\n",
      "Total number of data: 3420\n",
      "Number of correct label: 101\n",
      "Total number of data: 380\n",
      "Number of correct label: 13063625730995 testing: 0.2657894736842105\n",
      "Total number of data: 3420\n",
      "Number of correct label: 109\n",
      "Total number of data: 380\n",
      "Number of correct label: 13274502923975 testing: 0.2868421052631579\n",
      "Total number of data: 3420\n",
      "Number of correct label: 101\n",
      "Total number of data: 380\n",
      "Number of correct label: 13079590643275 testing: 0.2657894736842105\n",
      "Total number of data: 3420\n",
      "Number of correct label: 106\n",
      "Total number of data: 380\n",
      "Number of correct label: 1362426900585 testing: 0.2789473684210526\n",
      "Total number of data: 3420\n",
      "Number of correct label: 104\n",
      "Total number of data: 380\n",
      "Number of correct label: 13291403508774 testing: 0.2736842105263158\n",
      "Total number of data: 3420\n",
      "Number of correct label: 109\n",
      "Total number of data: 380\n",
      "epoch: 29 training: 0.38859649122807016 testing: 0.2868421052631579\r"
     ]
    },
    {
     "name": "stderr",
     "output_type": "stream",
     "text": [
      "/Users/yingxue_wang/anaconda3/lib/python3.6/site-packages/torch/serialization.py:159: UserWarning: Couldn't retrieve source code for container of type LSTMClassifier. It won't be checked for correctness upon loading.\n",
      "  \"type \" + obj.__name__ + \". It won't be checked \"\n"
     ]
    },
    {
     "data": {
      "image/png": "[encoded data removed]",
      "text/plain": [
       "<matplotlib.figure.Figure at 0x1a1800a908>"
      ]
     },
     "metadata": {},
     "output_type": "display_data"
    }
   ],
   "source": [
    "# new_category = load_data('category_100_dict')\n",
    "n = 100\n",
    "seed(22)\n",
    "X_train, X_test, y_train, y_test = get_dataset(new_category, n)\n",
    "result = training(X_train, X_test, y_train, y_test, modelName = 'trainedmodel.pt', embedding_dim = 50, \n",
    "                  hidden_dim = 200, tagset_size = 38, time_steps = 30, batch_size = 64, n_epoch = 30)\n",
    "\n",
    "save_data(result, 'result'+str(n))\n",
    "result = load_data('result'+str(n))\n",
    "\n",
    "x = [result[i][0] for i in range(len(result))]\n",
    "train_result = [result[i][1] for i in range(len(result))]\n",
    "test_result = [result[i][2] for i in range(len(result))]\n",
    "\n",
    "plt.plot(x,train_result,label='train')\n",
    "plt.plot(x,test_result,label='test')\n",
    "plt.title('Training Curve of the RNN model')\n",
    "plt.ylabel('Accuracy')\n",
    "plt.xlabel('Number of Epoch')\n",
    "plt.show()\n"
   ]
  },
  {
   "cell_type": "code",
   "execution_count": 1111,
   "metadata": {},
   "outputs": [
    {
     "name": "stderr",
     "output_type": "stream",
     "text": [
      "/Users/yingxue_wang/anaconda3/lib/python3.6/site-packages/ipykernel_launcher.py:40: UserWarning: Implicit dimension choice for softmax has been deprecated. Change the call to include dim=X as an argument.\n"
     ]
    },
    {
     "name": "stdout",
     "output_type": "stream",
     "text": [
      "Number of correct label: 219\n",
      "Total number of data: 3420\n",
      "Number of correct label: 19\n",
      "Total number of data: 380\n",
      "Number of correct label: 3578771929825 testing: 0.05\n",
      "Total number of data: 3420\n",
      "Number of correct label: 33\n",
      "Total number of data: 380\n",
      "Number of correct label: 5616491228071 testing: 0.0868421052631579\n",
      "Total number of data: 3420\n",
      "Number of correct label: 50\n",
      "Total number of data: 380\n",
      "Number of correct label: 6378771929826 testing: 0.13157894736842105\n",
      "Total number of data: 3420\n",
      "Number of correct label: 55\n",
      "Total number of data: 380\n",
      "Number of correct label: 7660994152045 testing: 0.14473684210526316\n",
      "Total number of data: 3420\n",
      "Number of correct label: 68\n",
      "Total number of data: 380\n",
      "Number of correct label: 849081871345 testing: 0.17894736842105263\n",
      "Total number of data: 3420\n",
      "Number of correct label: 75\n",
      "Total number of data: 380\n",
      "Number of correct label: 960140350877 testing: 0.19736842105263158\n",
      "Total number of data: 3420\n",
      "Number of correct label: 79\n",
      "Total number of data: 380\n",
      "Number of correct label: 102343859649 testing: 0.20789473684210527\n",
      "Total number of data: 3420\n",
      "Number of correct label: 85\n",
      "Total number of data: 380\n",
      "Number of correct label: 1012701754385 testing: 0.2236842105263158\n",
      "Total number of data: 3420\n",
      "Number of correct label: 83\n",
      "Total number of data: 380\n",
      "Number of correct label: 10442748538 testing: 0.21842105263157896\n",
      "Total number of data: 3420\n",
      "Number of correct label: 83\n",
      "Total number of data: 380\n",
      "Number of correct label: 1127789473685 testing: 0.21842105263157896\n",
      "Total number of data: 3420\n",
      "Number of correct label: 92\n",
      "Total number of data: 380\n",
      "Number of correct label: 11556374269007 testing: 0.24210526315789474\n",
      "Total number of data: 3420\n",
      "Number of correct label: 91\n",
      "Total number of data: 380\n",
      "Number of correct label: 11739824561403 testing: 0.2394736842105263\n",
      "Total number of data: 3420\n",
      "Number of correct label: 91\n",
      "Total number of data: 380\n",
      "Number of correct label: 1200561403509 testing: 0.2394736842105263\n",
      "Total number of data: 3420\n",
      "Number of correct label: 91\n",
      "Total number of data: 380\n",
      "Number of correct label: 1226929824561 testing: 0.2394736842105263\n",
      "Total number of data: 3420\n",
      "Number of correct label: 96\n",
      "Total number of data: 380\n",
      "Number of correct label: 1212321637427 testing: 0.25263157894736843\n",
      "Total number of data: 3420\n",
      "Number of correct label: 94\n",
      "Total number of data: 380\n",
      "Number of correct label: 1243649122807 testing: 0.24736842105263157\n",
      "Total number of data: 3420\n",
      "Number of correct label: 90\n",
      "Total number of data: 380\n",
      "Number of correct label: 1225923976608 testing: 0.23684210526315788\n",
      "Total number of data: 3420\n",
      "Number of correct label: 89\n",
      "Total number of data: 380\n",
      "Number of correct label: 127934502924 testing: 0.23421052631578948\n",
      "Total number of data: 3420\n",
      "Number of correct label: 101\n",
      "Total number of data: 380\n",
      "Number of correct label: 1289081871345 testing: 0.2657894736842105\n",
      "Total number of data: 3420\n",
      "Number of correct label: 98\n",
      "Total number of data: 380\n",
      "Number of correct label: 1311847953216 testing: 0.2578947368421053\n",
      "Total number of data: 3420\n",
      "Number of correct label: 101\n",
      "Total number of data: 380\n",
      "Number of correct label: 13543333333336 testing: 0.2657894736842105\n",
      "Total number of data: 3420\n",
      "Number of correct label: 105\n",
      "Total number of data: 380\n",
      "Number of correct label: 138732748538 testing: 0.27631578947368424\n",
      "Total number of data: 3420\n",
      "Number of correct label: 107\n",
      "Total number of data: 380\n",
      "Number of correct label: 14075555555556 testing: 0.28157894736842104\n",
      "Total number of data: 3420\n",
      "Number of correct label: 108\n",
      "Total number of data: 380\n",
      "Number of correct label: 1405087719298 testing: 0.28421052631578947\n",
      "Total number of data: 3420\n",
      "Number of correct label: 111\n",
      "Total number of data: 380\n",
      "Number of correct label: 1439134502924 testing: 0.29210526315789476\n",
      "Total number of data: 3420\n",
      "Number of correct label: 111\n",
      "Total number of data: 380\n",
      "Number of correct label: 13363391812867 testing: 0.29210526315789476\n",
      "Total number of data: 3420\n",
      "Number of correct label: 105\n",
      "Total number of data: 380\n",
      "Number of correct label: 1385748538012 testing: 0.27631578947368424\n",
      "Total number of data: 3420\n",
      "Number of correct label: 108\n",
      "Total number of data: 380\n",
      "Number of correct label: 14286023391815 testing: 0.28421052631578947\n",
      "Total number of data: 3420\n",
      "Number of correct label: 110\n",
      "Total number of data: 380\n",
      "Number of correct label: 14735964912283 testing: 0.2894736842105263\n",
      "Total number of data: 3420\n",
      "Number of correct label: 113\n",
      "Total number of data: 380\n",
      "Number of correct label: 1487543859649 testing: 0.29736842105263156\n",
      "Total number of data: 3420\n",
      "Number of correct label: 114\n",
      "Total number of data: 380\n",
      "Number of correct label: 1467216374269 testing: 0.3\n",
      "Total number of data: 3420\n",
      "Number of correct label: 114\n",
      "Total number of data: 380\n",
      "Number of correct label: 14866842105263 testing: 0.3\n",
      "Total number of data: 3420\n",
      "Number of correct label: 115\n",
      "Total number of data: 380\n",
      "Number of correct label: 14532397660817 testing: 0.3026315789473684\n",
      "Total number of data: 3420\n",
      "Number of correct label: 112\n",
      "Total number of data: 380\n",
      "Number of correct label: 14480116959065 testing: 0.29473684210526313\n",
      "Total number of data: 3420\n",
      "Number of correct label: 108\n",
      "Total number of data: 380\n",
      "Number of correct label: 1431128654971 testing: 0.28421052631578947\n",
      "Total number of data: 3420\n",
      "Number of correct label: 110\n",
      "Total number of data: 380\n",
      "Number of correct label: 13005263157897 testing: 0.2894736842105263\n",
      "Total number of data: 3420\n",
      "Number of correct label: 100\n",
      "Total number of data: 380\n",
      "Number of correct label: 13775906432746 testing: 0.2631578947368421\n",
      "Total number of data: 3420\n",
      "Number of correct label: 105\n",
      "Total number of data: 380\n",
      "Number of correct label: 1213789473684 testing: 0.27631578947368424\n",
      "Total number of data: 3420\n",
      "Number of correct label: 92\n",
      "Total number of data: 380\n",
      "Number of correct label: 1386625730994 testing: 0.24210526315789474\n",
      "Total number of data: 3420\n",
      "Number of correct label: 111\n",
      "Total number of data: 380\n",
      "Number of correct label: 1418578947368 testing: 0.29210526315789476\n",
      "Total number of data: 3420\n",
      "Number of correct label: 106\n",
      "Total number of data: 380\n",
      "Number of correct label: 13898304093567 testing: 0.2789473684210526\n",
      "Total number of data: 3420\n",
      "Number of correct label: 108\n",
      "Total number of data: 380\n",
      "Number of correct label: 11795087719297 testing: 0.28421052631578947\n",
      "Total number of data: 3420\n",
      "Number of correct label: 96\n",
      "Total number of data: 380\n",
      "Number of correct label: 1142421052632 testing: 0.25263157894736843\n",
      "Total number of data: 3420\n",
      "Number of correct label: 95\n",
      "Total number of data: 380\n",
      "Number of correct label: 1170286549708 testing: 0.25\n",
      "Total number of data: 3420\n",
      "Number of correct label: 89\n",
      "Total number of data: 380\n",
      "Number of correct label: 10546315789475 testing: 0.23421052631578948\n",
      "Total number of data: 3420\n",
      "Number of correct label: 86\n",
      "Total number of data: 380\n",
      "Number of correct label: 96813450292395 testing: 0.22631578947368422\n",
      "Total number of data: 3420\n",
      "Number of correct label: 77\n",
      "Total number of data: 380\n",
      "Number of correct label: 1161356725146 testing: 0.2026315789473684\n",
      "Total number of data: 3420\n",
      "Number of correct label: 95\n",
      "Total number of data: 380\n",
      "Number of correct label: 1174842105263 testing: 0.25\n",
      "Total number of data: 3420\n",
      "Number of correct label: 100\n",
      "Total number of data: 380\n",
      "Number of correct label: 12445380116957 testing: 0.2631578947368421\n",
      "Total number of data: 3420\n",
      "Number of correct label: 103\n",
      "Total number of data: 380\n",
      "epoch: 49 training: 0.36374269005847953 testing: 0.2710526315789474\r"
     ]
    },
    {
     "name": "stderr",
     "output_type": "stream",
     "text": [
      "/Users/yingxue_wang/anaconda3/lib/python3.6/site-packages/torch/serialization.py:159: UserWarning: Couldn't retrieve source code for container of type LSTMClassifier. It won't be checked for correctness upon loading.\n",
      "  \"type \" + obj.__name__ + \". It won't be checked \"\n"
     ]
    },
    {
     "data": {
      "image/png": "[encoded data removed]",
      "text/plain": [
       "<matplotlib.figure.Figure at 0x1a17e6a6a0>"
      ]
     },
     "metadata": {},
     "output_type": "display_data"
    }
   ],
   "source": [
    "new_category = load_data('category_100_dict')\n",
    "n = 100\n",
    "seed(22)\n",
    "X_train, X_test, y_train, y_test = get_dataset(new_category, n)\n",
    "result = training(X_train, X_test, y_train, y_test, modelName = 'trainedmodel.pt', embedding_dim = 50, \n",
    "                  hidden_dim = 200, tagset_size = 38, time_steps = 36, batch_size = 64, n_epoch = 50)\n",
    "\n",
    "save_data(result, 'result'+str(n))\n",
    "result = load_data('result'+str(n))\n",
    "\n",
    "x = [result[i][0] for i in range(len(result))]\n",
    "train_result = [result[i][1] for i in range(len(result))]\n",
    "test_result = [result[i][2] for i in range(len(result))]\n",
    "\n",
    "plt.plot(x,train_result,label='train')\n",
    "plt.plot(x,test_result,label='test')\n",
    "plt.title('Training Curve of the RNN model')\n",
    "plt.ylabel('Accuracy')\n",
    "plt.xlabel('Number of Epoch')\n",
    "plt.show()\n",
    "\n"
   ]
  }
 ],
 "metadata": {
  "kernelspec": {
   "display_name": "Python 3",
   "language": "python",
   "name": "python3"
  },
  "language_info": {
   "codemirror_mode": {
    "name": "ipython",
    "version": 3
   },
   "file_extension": ".py",
   "mimetype": "text/x-python",
   "name": "python",
   "nbconvert_exporter": "python",
   "pygments_lexer": "ipython3",
   "version": "3.6.4"
  }
 },
 "nbformat": 4,
 "nbformat_minor": 2
}
