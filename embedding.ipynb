{
 "cells": [
  {
   "cell_type": "code",
   "execution_count": 15,
   "metadata": {},
   "outputs": [],
   "source": [
    "import sys\n",
    "import os\n",
    "import string\n",
    "import json\n",
    "import math\n",
    "import random\n",
    "import argparse\n",
    "import re\n",
    "import matplotlib.pyplot as plt\n",
    "import timeit\n",
    "import spacy\n",
    "import numpy as np\n",
    "import pickle\n",
    "from pylab import *\n",
    "from copy import deepcopy\n",
    "from sklearn.feature_extraction.text import ENGLISH_STOP_WORDS\n",
    "from sklearn import tree\n",
    "import torch\n",
    "import torch.autograd as autograd\n",
    "import torch.nn as nn\n",
    "import torch.nn.functional as F\n",
    "import torch.optim as optim\n",
    "from torch.autograd import Variable\n",
    "from hashlib import sha256\n",
    "import urllib.request\n",
    "from torch.utils.data import Dataset, DataLoader,TensorDataset\n",
    "dtype_float = torch.FloatTensor\n",
    "dtype_long = torch.LongTensor"
   ]
  },
  {
   "cell_type": "code",
   "execution_count": 7,
   "metadata": {},
   "outputs": [],
   "source": [
    "with open('./glove/glove.6B.50d.txt','rb') as f:\n",
    "    lines = f.readlines()\n",
    "\n",
    "    glove_weights = np.zeros((len(lines), 50))\n",
    "    words = []\n",
    "    for i, line in enumerate(lines):\n",
    "        word_weights = line.split()\n",
    "        words.append(word_weights[0])\n",
    "        weight = word_weights[1:]\n",
    "        glove_weights[i] = np.array([float(w) for w in weight])\n",
    "    word_vocab = [w.decode(\"utf-8\") for w in words]\n",
    "\n",
    "    word2glove = dict(zip(word_vocab, glove_weights))\n"
   ]
  },
  {
   "cell_type": "code",
   "execution_count": 13,
   "metadata": {},
   "outputs": [],
   "source": [
    "def embeddData(data, word2glove, featureLength, start = 0., end = 1.):\n",
    "    embeddedLength = 50\n",
    "    #featureLength = max(len(fake[i]) for i in range(len(fake)))\n",
    "    embedded = []\n",
    "    pad = np.zeros(embeddedLength)\n",
    "    data = list(data.keys())\n",
    "    label = list(data.value())\n",
    "    for line in data[int(start*len(data)):int(end*len(data))]:\n",
    "        wordList = []\n",
    "        for word in news:\n",
    "            if word in word2glove.keys():\n",
    "                wordArray = word2glove[word]\n",
    "                wordList.append(wordArray)\n",
    "                if len(wordList) == featureLength:\n",
    "                    break\n",
    "        numPadding = featureLength - len(newsArray)\n",
    "        for i in range(numPadding):\n",
    "            wordList.insert(0,pad)\n",
    "        embedded.append(wordList)\n",
    "    embedded = np.array(embedded)\n",
    "    return embedded, label"
   ]
  },
  {
   "cell_type": "code",
   "execution_count": 12,
   "metadata": {},
   "outputs": [
    {
     "ename": "NameError",
     "evalue": "name 'buildVocab' is not defined",
     "output_type": "error",
     "traceback": [
      "\u001b[0;31m---------------------------------------------------------------------------\u001b[0m",
      "\u001b[0;31mNameError\u001b[0m                                 Traceback (most recent call last)",
      "\u001b[0;32m<ipython-input-12-a2a0658e3c2b>\u001b[0m in \u001b[0;36m<module>\u001b[0;34m()\u001b[0m\n\u001b[1;32m      4\u001b[0m           'context','virtual', 'mode', 'inform', 'secur', 'windows','version', 'connect']\n\u001b[1;32m      5\u001b[0m \u001b[0mdata\u001b[0m \u001b[0;34m=\u001b[0m \u001b[0mreadFile\u001b[0m\u001b[0;34m(\u001b[0m\u001b[0;34m'noPunctuationsPorterStemmer.txt'\u001b[0m\u001b[0;34m)\u001b[0m\u001b[0;34m\u001b[0m\u001b[0m\n\u001b[0;32m----> 6\u001b[0;31m \u001b[0mvocab\u001b[0m \u001b[0;34m=\u001b[0m \u001b[0mbuildVocab\u001b[0m\u001b[0;34m(\u001b[0m\u001b[0mdata\u001b[0m\u001b[0;34m)\u001b[0m\u001b[0;34m\u001b[0m\u001b[0m\n\u001b[0m\u001b[1;32m      7\u001b[0m \u001b[0mtaggeddata\u001b[0m \u001b[0;34m=\u001b[0m \u001b[0mlabelData\u001b[0m\u001b[0;34m(\u001b[0m\u001b[0mlabels\u001b[0m\u001b[0;34m,\u001b[0m \u001b[0mdata\u001b[0m\u001b[0;34m)\u001b[0m\u001b[0;34m\u001b[0m\u001b[0m\n\u001b[1;32m      8\u001b[0m \u001b[0membeddData\u001b[0m\u001b[0;34m(\u001b[0m\u001b[0mtaggeddata\u001b[0m\u001b[0;34m,\u001b[0m \u001b[0mword2glove\u001b[0m\u001b[0;34m,\u001b[0m \u001b[0mfeatureLength\u001b[0m\u001b[0;34m,\u001b[0m \u001b[0mstart\u001b[0m \u001b[0;34m=\u001b[0m \u001b[0;36m0.\u001b[0m\u001b[0;34m,\u001b[0m \u001b[0mend\u001b[0m \u001b[0;34m=\u001b[0m \u001b[0;36m1.\u001b[0m\u001b[0;34m)\u001b[0m\u001b[0;34m\u001b[0m\u001b[0m\n",
      "\u001b[0;31mNameError\u001b[0m: name 'buildVocab' is not defined"
     ]
    }
   ],
   "source": [
    "labels = ['success', 'system', 'file', 'object', 'servic', 'drive', 'data', 'support', 'server', 'transact',\n",
    "          'found', 'log', 'call', 'process', 'type', 'key', 'domain', 'user', 'instal', 'cluster', 'group', \n",
    "         'attribut', 'polici', 'certif', 'network', 'bitlock', 'devic', 'directori', 'configur', 'encrypt', \n",
    "          'context','virtual', 'mode', 'inform', 'secur', 'windows','version', 'connect']\n",
    "data = readFile('noPunctuationsPorterStemmer.txt')\n",
    "vocab = buildVocab(data)\n",
    "taggeddata = labelData(labels, data)\n",
    "embeddData(taggeddata, word2glove, featureLength, start = 0., end = 1.)\n"
   ]
  }
 ],
 "metadata": {
  "kernelspec": {
   "display_name": "Python 3",
   "language": "python",
   "name": "python3"
  },
  "language_info": {
   "codemirror_mode": {
    "name": "ipython",
    "version": 3
   },
   "file_extension": ".py",
   "mimetype": "text/x-python",
   "name": "python",
   "nbconvert_exporter": "python",
   "pygments_lexer": "ipython3",
   "version": "3.6.4"
  }
 },
 "nbformat": 4,
 "nbformat_minor": 2
}
